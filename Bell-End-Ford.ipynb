{
 "cells": [
  {
   "cell_type": "markdown",
   "id": "24e67114-df6c-4523-9e92-dfa7e41e5b3b",
   "metadata": {},
   "source": [
    "# Caminos mas cortos.\n",
    "\n",
    "Realice las siguientes actividades:\n",
    "\n",
    "  1. Implemente el algoritmo Bell-End-Ford siguiendo la plantilla de clase a continuación."
   ]
  },
  {
   "cell_type": "code",
   "execution_count": null,
   "id": "05f1ca10-aa0e-4320-9b39-9cf3a41af664",
   "metadata": {},
   "outputs": [],
   "source": [
    "class BellEndFord:\n",
    "    \n",
    "    def __init__(self, ady_mat=None):\n",
    "        \"\"\"\n",
    "        Método constructor de la clase.\n",
    "        :param numpy matrix: Matriz de adyaciencia del grafo a analizar. Se deberá utilizar un numpy.matrix\n",
    "        \"\"\"\n",
    "        pass\n",
    "    \n",
    "    def get_graph(self, ady_mat):\n",
    "        \"\"\"\n",
    "        Método que asigna un nuevo grafo.\n",
    "        \n",
    "        :param numpy matrix:  Matriz de adyaciencia del grafo a analizar. Se deberá utilizar un numpy.matrix\n",
    "        \"\"\"\n",
    "        pass\n",
    "    \n",
    "    def show_graph(self):\n",
    "        \"\"\"\n",
    "        Método que muestra la matriz de adyacencia del grafo.\n",
    "        \"\"\"\n",
    "        pass\n",
    "    def plot_graph(self):\n",
    "        \"\"\"\n",
    "        Método que grafíca el grafo mediante igraph o networkx\n",
    "        \"\"\"\n",
    "        pass\n",
    "    def get_short_path(self, ini_vertex, final_vertex):\n",
    "        \"\"\"\n",
    "        Método que implementa el algoritmo Dijkstra para encontrar el camino mas corto entre dos vértices.\n",
    "        :param ini_vertex: Vertice de donde se parte la búsqueda\n",
    "        :param final_vertex: Vertice final u objetivo\n",
    "        :return list: una lista con el recorrido (camino) a realizar\n",
    "        \"\"\"\n",
    "        pass\n",
    "    def plot_short_path(self):\n",
    "        \"\"\"\n",
    "        Método que grafíca el grafo y muestra explicitamente el camino a seguir. El grafo deberá mostrar las etiquetas de \"peso acumulado\" y \"vertice antecesor\"\n",
    "        por cada vértice.\n",
    "        \"\"\"\n",
    "        pass\n",
    "    "
   ]
  },
  {
   "cell_type": "markdown",
   "id": "6465f4e1-363c-4e7c-9748-5fdf280e027c",
   "metadata": {},
   "source": [
    "2.- Del grafo de la imagen siguiente obtenga:\n",
    "\n",
    "  * Matriz de adyacencia\n",
    "  * Mapa de adyacencia\n",
    "  \n",
    "Y almacenelo en un archivo json.\n",
    "\n",
    "![](img/grafo_short_path2.png)"
   ]
  },
  {
   "cell_type": "markdown",
   "id": "18e7729c-6083-46c8-8c03-f72404321726",
   "metadata": {},
   "source": [
    "3.- Mediante networkx o igraph muestre la regresentación visual del grafo. utilice el método `plot_graph` de la clase."
   ]
  },
  {
   "cell_type": "markdown",
   "id": "f1728225-554f-4abb-85a4-cc7c5ff52ead",
   "metadata": {},
   "source": [
    "4.- Obtenda lo siguiente:\n",
    "\n",
    "  * El camino más corto de ah - b\n",
    "  * El camino más corto de ao - w\n",
    "  \n",
    "  > **Se deberá mostrar el camino de manera gráfica mediante el método `plot_short_path`"
   ]
  },
  {
   "cell_type": "code",
   "execution_count": null,
   "id": "c976b778-72b7-45d0-b202-af5c27074d1e",
   "metadata": {},
   "outputs": [],
   "source": []
  }
 ],
 "metadata": {
  "kernelspec": {
   "display_name": "Python 3",
   "language": "python",
   "name": "python3"
  },
  "language_info": {
   "codemirror_mode": {
    "name": "ipython",
    "version": 3
   },
   "file_extension": ".py",
   "mimetype": "text/x-python",
   "name": "python",
   "nbconvert_exporter": "python",
   "pygments_lexer": "ipython3",
   "version": "3.8.12"
  }
 },
 "nbformat": 4,
 "nbformat_minor": 5
}
